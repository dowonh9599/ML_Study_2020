{
 "metadata": {
  "language_info": {
   "codemirror_mode": {
    "name": "ipython",
    "version": 3
   },
   "file_extension": ".py",
   "mimetype": "text/x-python",
   "name": "python",
   "nbconvert_exporter": "python",
   "pygments_lexer": "ipython3",
   "version": "3.7.7-final"
  },
  "orig_nbformat": 2,
  "kernelspec": {
   "name": "Python 3.7.7 64-bit ('tf_env': conda)",
   "display_name": "Python 3.7.7 64-bit ('tf_env': conda)",
   "metadata": {
    "interpreter": {
     "hash": "3447f6136a6cf56eb81d5af8e2a6db11391489766b6427b46ae4250d86181ffe"
    }
   }
  }
 },
 "nbformat": 4,
 "nbformat_minor": 2,
 "cells": [
  {
   "source": [
    "# Python OOP"
   ],
   "cell_type": "markdown",
   "metadata": {}
  },
  {
   "source": [
    "## Python Class"
   ],
   "cell_type": "markdown",
   "metadata": {}
  },
  {
   "cell_type": "code",
   "execution_count": null,
   "metadata": {},
   "outputs": [],
   "source": [
    "class ClassName():\n",
    "    \"\"\"Class DOc\"\"\"\n",
    "    # can initialize static variables here\n",
    "    def __init__(self, some_args):\n",
    "        self.a = a\n",
    "\n",
    "    def some_public_method(self, some_args):\n",
    "\n",
    "    def _some_private_method(self, some_args):\n",
    "\n",
    "    def __must_private_method__(self, some_args):\n",
    "    "
   ]
  },
  {
   "source": [
    "## Python Inheritance"
   ],
   "cell_type": "markdown",
   "metadata": {}
  },
  {
   "cell_type": "code",
   "execution_count": 4,
   "metadata": {
    "tags": []
   },
   "outputs": [
    {
     "output_type": "stream",
     "name": "stdout",
     "text": "1\n1 2\n"
    }
   ],
   "source": [
    "class Parent():\n",
    "    def __init__(self, a):\n",
    "        self.a = a\n",
    "\n",
    "class Child(Parent):\n",
    "    def __init__(self, a,b):\n",
    "        super().__init__(a)\n",
    "        self.b = b\n",
    "\n",
    "\n",
    "p = Parent(1)\n",
    "c = Child(1, 2)\n",
    "\n",
    "print(p.a)\n",
    "print(c.a, c.b)\n"
   ]
  },
  {
   "source": [
    "## Python Overriding"
   ],
   "cell_type": "markdown",
   "metadata": {}
  },
  {
   "cell_type": "code",
   "execution_count": 6,
   "metadata": {
    "tags": []
   },
   "outputs": [
    {
     "output_type": "stream",
     "name": "stdout",
     "text": "6\n1 2 3\n"
    }
   ],
   "source": [
    "class Parent():\n",
    "    def __init__(self, a):\n",
    "        self.a = a\n",
    "    def some_method(self, a, b, c):\n",
    "        print(a+b+c)\n",
    "    \n",
    "    def print()\n",
    "\n",
    "class Child(Parent):\n",
    "    def __init__(self, a,b):\n",
    "        super().__init__(a)\n",
    "        self.b = b\n",
    "    \n",
    "    def some_method(self, c):\n",
    "        print(self.a, self.b, c)\n",
    "\n",
    "p = Parent(1)\n",
    "c = Child(1, 2)\n",
    "\n",
    "p.some_method(1, 2, 3)\n",
    "c.some_method(3)"
   ]
  },
  {
   "source": [
    "## Python Overloading"
   ],
   "cell_type": "markdown",
   "metadata": {}
  },
  {
   "cell_type": "code",
   "execution_count": 7,
   "metadata": {},
   "outputs": [
    {
     "output_type": "execute_result",
     "data": {
      "text/plain": "[&#39;__class__&#39;,\n &#39;__delattr__&#39;,\n &#39;__dict__&#39;,\n &#39;__dir__&#39;,\n &#39;__doc__&#39;,\n &#39;__eq__&#39;,\n &#39;__format__&#39;,\n &#39;__ge__&#39;,\n &#39;__getattribute__&#39;,\n &#39;__gt__&#39;,\n &#39;__hash__&#39;,\n &#39;__init__&#39;,\n &#39;__init_subclass__&#39;,\n &#39;__le__&#39;,\n &#39;__lt__&#39;,\n &#39;__module__&#39;,\n &#39;__ne__&#39;,\n &#39;__new__&#39;,\n &#39;__reduce__&#39;,\n &#39;__reduce_ex__&#39;,\n &#39;__repr__&#39;,\n &#39;__setattr__&#39;,\n &#39;__sizeof__&#39;,\n &#39;__str__&#39;,\n &#39;__subclasshook__&#39;,\n &#39;__weakref__&#39;,\n &#39;some_method&#39;]"
     },
     "metadata": {},
     "execution_count": 7
    }
   ],
   "source": [
    "dir(Parent)"
   ]
  },
  {
   "cell_type": "code",
   "execution_count": 5,
   "metadata": {
    "tags": []
   },
   "outputs": [
    {
     "output_type": "execute_result",
     "data": {
      "text/plain": [
       "3"
      ]
     },
     "metadata": {},
     "execution_count": 5
    }
   ],
   "source": [
    "class SomeClass:\n",
    "    def __init__(self, a):\n",
    "        self.a = a\n",
    "    \n",
    "    # def __eq__(self, p):  \n",
    "    #     return self.a == p.a\n",
    "    \n",
    "    # def __gt__(self, p):  \n",
    "    #     return self.a > p.a\n",
    "    \n",
    "    # def __lt__(self, p):   \n",
    "    #     return self.a < p.a\n",
    "\n",
    "    # def __add__(self, p):  \n",
    "    #     return SomeClass(self.a + p.a)\n",
    "    \n",
    "    def __call__(self, p):\n",
    "        if self < p:\n",
    "            print(self.a)\n",
    "        if self > p:\n",
    "            print(p.a)\n",
    "        if self == p:\n",
    "            print(self + p)\n",
    " \n",
    "\n",
    "    \n",
    "x = SomeClass(1)\n",
    "y = SomeClass(2)\n",
    "\n",
    "z = x + y\n",
    "z.a\n",
    "x(y)"
   ]
  },
  {
   "cell_type": "code",
   "execution_count": 15,
   "metadata": {},
   "outputs": [
    {
     "output_type": "execute_result",
     "data": {
      "text/plain": "[&#39;__class__&#39;,\n &#39;__delattr__&#39;,\n &#39;__dict__&#39;,\n &#39;__dir__&#39;,\n &#39;__doc__&#39;,\n &#39;__eq__&#39;,\n &#39;__format__&#39;,\n &#39;__ge__&#39;,\n &#39;__getattribute__&#39;,\n &#39;__gt__&#39;,\n &#39;__hash__&#39;,\n &#39;__init__&#39;,\n &#39;__init_subclass__&#39;,\n &#39;__le__&#39;,\n &#39;__lt__&#39;,\n &#39;__module__&#39;,\n &#39;__ne__&#39;,\n &#39;__new__&#39;,\n &#39;__reduce__&#39;,\n &#39;__reduce_ex__&#39;,\n &#39;__repr__&#39;,\n &#39;__setattr__&#39;,\n &#39;__sizeof__&#39;,\n &#39;__str__&#39;,\n &#39;__subclasshook__&#39;,\n &#39;__weakref__&#39;]"
     },
     "metadata": {},
     "execution_count": 15
    }
   ],
   "source": [
    "dir(SomeClass)"
   ]
  },
  {
   "source": [
    "## Python Modularizing\n",
    "\n",
    "init module, import"
   ],
   "cell_type": "markdown",
   "metadata": {}
  },
  {
   "cell_type": "code",
   "execution_count": null,
   "metadata": {},
   "outputs": [],
   "source": []
  }
 ]
}