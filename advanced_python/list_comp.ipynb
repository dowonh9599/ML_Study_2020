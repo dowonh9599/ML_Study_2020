{
 "metadata": {
  "language_info": {
   "codemirror_mode": {
    "name": "ipython",
    "version": 3
   },
   "file_extension": ".py",
   "mimetype": "text/x-python",
   "name": "python",
   "nbconvert_exporter": "python",
   "pygments_lexer": "ipython3",
   "version": "3.7.7-final"
  },
  "orig_nbformat": 2,
  "kernelspec": {
   "name": "Python 3.7.7 64-bit ('tf_env': conda)",
   "display_name": "Python 3.7.7 64-bit ('tf_env': conda)",
   "metadata": {
    "interpreter": {
     "hash": "3447f6136a6cf56eb81d5af8e2a6db11391489766b6427b46ae4250d86181ffe"
    }
   }
  }
 },
 "nbformat": 4,
 "nbformat_minor": 2,
 "cells": [
  {
   "source": [
    "# Advanced Python Class 1: List Comprehension"
   ],
   "cell_type": "markdown",
   "metadata": {}
  },
  {
   "source": [
    "### List Comprehension\n",
    "\n",
    "List Comprehension 이란, Python 에서 제공하는 굉장히 강력한 for loop 대체제입니다. for loop 을 통해 몇 줄 이상으로 작성해야할 코드를 1줄로 줄일 수 있습니다.\n",
    "\n",
    "장점: 간결한 코드\n",
    "단점: 간혹 너무 복잡해지면 readability 가 떨어질 수 있음"
   ],
   "cell_type": "markdown",
   "metadata": {}
  },
  {
   "source": [
    "### Example\n",
    "\n",
    "Given a list of list A, return a list B that contains the length of the all the lists inside A.\n",
    "\n",
    "Args:\n",
    "    `A = [[1,2,3,4,5], [5,4,3], [10, 14, 142, 5], [1]]`\n",
    "\n",
    "Returns:\n",
    "    `B = [5, 3, 4, 1]`"
   ],
   "cell_type": "markdown",
   "metadata": {}
  },
  {
   "source": [
    "### Easy approach"
   ],
   "cell_type": "markdown",
   "metadata": {}
  },
  {
   "cell_type": "code",
   "execution_count": 2,
   "metadata": {},
   "outputs": [
    {
     "output_type": "execute_result",
     "data": {
      "text/plain": "[5, 3, 4, 1]"
     },
     "metadata": {},
     "execution_count": 2
    }
   ],
   "source": [
    "A = [[1,2,3,4,5], [5,4,3], [10, 14, 142, 5], [1]]\n",
    "\n",
    "B = []\n",
    "for i in A:\n",
    "    B.append(len(i))\n",
    "\n",
    "B"
   ]
  },
  {
   "source": [
    "### List Comprehension"
   ],
   "cell_type": "markdown",
   "metadata": {}
  },
  {
   "cell_type": "code",
   "execution_count": 6,
   "metadata": {},
   "outputs": [
    {
     "output_type": "execute_result",
     "data": {
      "text/plain": [
       "[5, 3, 4, 1]"
      ]
     },
     "metadata": {},
     "execution_count": 6
    }
   ],
   "source": [
    "A = [[1,2,3,4,5], [5,4,3], [10, 14, 142, 5], [1]]\n",
    "\n",
    "B = [len(i) for i in A]\n",
    "\n",
    "B"
   ]
  },
  {
   "source": [
    "### Useful other functions: enumerate, zip, sorted, range"
   ],
   "cell_type": "markdown",
   "metadata": {}
  },
  {
   "cell_type": "code",
   "execution_count": 5,
   "metadata": {},
   "outputs": [],
   "source": [
    "# B.sort()  # B 가 sorted 된 list 로 바뀜  inplace operation\n",
    "C = sorted(B)  # not inplace"
   ]
  },
  {
   "cell_type": "code",
   "execution_count": 29,
   "metadata": {
    "tags": []
   },
   "outputs": [
    {
     "output_type": "stream",
     "name": "stdout",
     "text": "(index, item)\n0 [1, 2, 3, 4, 5]\n1 [5, 4, 3]\n2 [10, 14, 142, 5]\n3 [1]\n"
    }
   ],
   "source": [
    "print('(index, item)')\n",
    "for i, x in enumerate(A):\n",
    "    print(i, x)\n"
   ]
  },
  {
   "cell_type": "code",
   "execution_count": 32,
   "metadata": {
    "tags": []
   },
   "outputs": [
    {
     "output_type": "stream",
     "name": "stdout",
     "text": "([1, 2, 3, 4, 5], 5)\n([5, 4, 3], 3)\n([10, 14, 142, 5], 4)\n([1], 1)\n\n[1, 2, 3, 4, 5] 5\n[5, 4, 3] 3\n[10, 14, 142, 5] 4\n[1] 1\n"
    }
   ],
   "source": [
    "\n",
    "for pair in zip(A, B):\n",
    "    print(pair)\n",
    "\n",
    "print()\n",
    "for a, b in zip(A, B):\n",
    "    print(a, b)"
   ]
  },
  {
   "cell_type": "code",
   "execution_count": 7,
   "metadata": {},
   "outputs": [
    {
     "output_type": "execute_result",
     "data": {
      "text/plain": [
       "[[1], [5, 4, 3], [10, 14, 142, 5], [1, 2, 3, 4, 5]]"
      ]
     },
     "metadata": {},
     "execution_count": 7
    }
   ],
   "source": [
    "# return a sorted list of items by given key\n",
    "\n",
    "sorted(A, key=len)"
   ]
  },
  {
   "cell_type": "code",
   "execution_count": 22,
   "metadata": {
    "tags": []
   },
   "outputs": [
    {
     "output_type": "stream",
     "name": "stdout",
     "text": "(0, ([1, 2, 3, 4, 5], 5))\n(1, ([5, 4, 3], 3))\n(2, ([10, 14, 142, 5], 4))\n(3, ([1], 1))\n"
    }
   ],
   "source": [
    "# this is error\n",
    "for i, a, b in enumerate(zip(A, B)):\n",
    "    print(i, a, b)\n",
    "\n",
    "# right way to do\n",
    "for i, (a, b) in enumerate(zip(A, B)):\n",
    "    print(i, a, b)"
   ]
  },
  {
   "source": [
    "## List comprehension is actually a generator class: not restricted to lists"
   ],
   "cell_type": "markdown",
   "metadata": {}
  },
  {
   "cell_type": "code",
   "execution_count": 36,
   "metadata": {
    "tags": []
   },
   "outputs": [
    {
     "output_type": "stream",
     "name": "stdout",
     "text": "&lt;generator object &lt;genexpr&gt; at 0x7f97193b3a50&gt;\n"
    }
   ],
   "source": [
    "def func(a):\n",
    "\n",
    "    print(a)\n",
    "\n",
    "func(x for x in A)"
   ]
  },
  {
   "cell_type": "code",
   "execution_count": 37,
   "metadata": {},
   "outputs": [],
   "source": [
    "a = {}\n",
    "\n",
    "a['1'] = 1"
   ]
  },
  {
   "cell_type": "code",
   "execution_count": 39,
   "metadata": {},
   "outputs": [
    {
     "output_type": "execute_result",
     "data": {
      "text/plain": "{&#39;Desmond&#39;: 7, &#39;Avery&#39;: 5, &#39;Mordecai&#39;: 8, &#39;Arya&#39;: 4, &#39;Rossiter&#39;: 8}"
     },
     "metadata": {},
     "execution_count": 39
    }
   ],
   "source": [
    "# name as key, length of name as value\n",
    "\n",
    "names = ['Desmond', 'Avery', 'Mordecai', 'Arya', 'Rossiter']\n",
    "\n",
    "name_dict = {}\n",
    "for n in names:\n",
    "    name_dict[n] = len(n)\n",
    "\n",
    "name_dict"
   ]
  },
  {
   "cell_type": "code",
   "execution_count": 41,
   "metadata": {},
   "outputs": [
    {
     "output_type": "execute_result",
     "data": {
      "text/plain": "{&#39;Desmond&#39;: 7, &#39;Avery&#39;: 5, &#39;Mordecai&#39;: 8, &#39;Arya&#39;: 4, &#39;Rossiter&#39;: 8}"
     },
     "metadata": {},
     "execution_count": 41
    }
   ],
   "source": [
    "name_dict2 = {name: len(name) for name in names}\n",
    "name_dict2"
   ]
  },
  {
   "source": [
    "Extra: dict and set do not gurantee the order: however, since python 3.5, dictionary gurantee order of insertion"
   ],
   "cell_type": "markdown",
   "metadata": {}
  },
  {
   "source": [
    "## Exercise 1: create a 3-d list of size (n,n,n) containing all zeros using list comprehension\n",
    "\n"
   ],
   "cell_type": "markdown",
   "metadata": {}
  },
  {
   "cell_type": "code",
   "execution_count": 1,
   "metadata": {
    "tags": []
   },
   "outputs": [
    {
     "output_type": "error",
     "ename": "IndexError",
     "evalue": "list index out of range",
     "traceback": [
      "\u001b[0;31m---------------------------------------------------------------------------\u001b[0m",
      "\u001b[0;31mIndexError\u001b[0m                                Traceback (most recent call last)",
      "\u001b[0;32m<ipython-input-1-bd31301a8076>\u001b[0m in \u001b[0;36m<module>\u001b[0;34m\u001b[0m\n\u001b[1;32m      4\u001b[0m \u001b[0mans\u001b[0m \u001b[0;34m=\u001b[0m \u001b[0;34m[\u001b[0m\u001b[0;34m[\u001b[0m\u001b[0;34m[\u001b[0m\u001b[0;36m0\u001b[0m \u001b[0;32mfor\u001b[0m \u001b[0m_\u001b[0m \u001b[0;32min\u001b[0m \u001b[0mrange\u001b[0m\u001b[0;34m(\u001b[0m\u001b[0mn\u001b[0m\u001b[0;34m)\u001b[0m\u001b[0;34m]\u001b[0m \u001b[0;32mfor\u001b[0m \u001b[0m_\u001b[0m \u001b[0;32min\u001b[0m \u001b[0mrange\u001b[0m\u001b[0;34m(\u001b[0m\u001b[0mn\u001b[0m\u001b[0;34m)\u001b[0m\u001b[0;34m]\u001b[0m \u001b[0;32mfor\u001b[0m \u001b[0m_\u001b[0m \u001b[0;32min\u001b[0m \u001b[0mrange\u001b[0m\u001b[0;34m(\u001b[0m\u001b[0mn\u001b[0m\u001b[0;34m)\u001b[0m\u001b[0;34m]\u001b[0m\u001b[0;34m\u001b[0m\u001b[0;34m\u001b[0m\u001b[0m\n\u001b[1;32m      5\u001b[0m \u001b[0;34m\u001b[0m\u001b[0m\n\u001b[0;32m----> 6\u001b[0;31m \u001b[0mprint\u001b[0m\u001b[0;34m(\u001b[0m\u001b[0;34m'shape:'\u001b[0m\u001b[0;34m,\u001b[0m \u001b[0mlen\u001b[0m\u001b[0;34m(\u001b[0m\u001b[0mans\u001b[0m\u001b[0;34m)\u001b[0m\u001b[0;34m,\u001b[0m \u001b[0mlen\u001b[0m\u001b[0;34m(\u001b[0m\u001b[0mans\u001b[0m\u001b[0;34m[\u001b[0m\u001b[0;36m0\u001b[0m\u001b[0;34m]\u001b[0m\u001b[0;34m)\u001b[0m\u001b[0;34m,\u001b[0m \u001b[0mlen\u001b[0m\u001b[0;34m(\u001b[0m\u001b[0mans\u001b[0m\u001b[0;34m[\u001b[0m\u001b[0;36m0\u001b[0m\u001b[0;34m]\u001b[0m\u001b[0;34m[\u001b[0m\u001b[0;36m0\u001b[0m\u001b[0;34m]\u001b[0m\u001b[0;34m)\u001b[0m\u001b[0;34m)\u001b[0m\u001b[0;34m\u001b[0m\u001b[0;34m\u001b[0m\u001b[0m\n\u001b[0m",
      "\u001b[0;31mIndexError\u001b[0m: list index out of range"
     ]
    }
   ],
   "source": [
    "n = 0\n",
    "\n",
    "# put your answer here\n",
    "ans = [[[0 for _ in range(n)] for _ in range(n)] for _ in range(n)]\n",
    "\n",
    "print('shape:', len(ans), len(ans[0]), len(ans[0][0]))"
   ]
  },
  {
   "source": [
    "## Exercise 2:\n",
    "\n",
    "You are given 2 lists of strings: One contains first names, second contains last names. What you should do: \n",
    "\n",
    "Sort the last names in ascending order. Then, create a dictionary with key: full name (first name comes first), value: the name's index in the original list. You can use only one line of code to process this.\n",
    "\n",
    "NOTE: The first names need not be sorted.\n",
    "\n",
    "HINT: \n",
    "* for making full name, use `first_name + ' ' + last_name`.\n",
    "* you should use sorted, zip, enumerate, and list comprehension in your code."
   ],
   "cell_type": "markdown",
   "metadata": {}
  },
  {
   "cell_type": "code",
   "execution_count": 2,
   "metadata": {},
   "outputs": [
    {
     "output_type": "execute_result",
     "data": {
      "text/plain": [
       "{'James Aldrin': 0,\n",
       " 'John Choi': 1,\n",
       " 'Mark Golin': 2,\n",
       " 'Lucy Lettieri': 3,\n",
       " 'Cynthia Potter': 4,\n",
       " 'Harry Smith': 5}"
      ]
     },
     "metadata": {},
     "execution_count": 2
    }
   ],
   "source": [
    "first_names = ['James', 'John', 'Mark', 'Lucy', 'Cynthia', 'Harry']\n",
    "last_names = ['Choi', 'Smith', 'Lettieri', 'Aldrin', 'Golin', 'Potter']\n",
    "\n",
    "# put your answer here\n",
    "answer = None\n",
    "\n",
    "answer"
   ]
  },
  {
   "source": [
    "## Lambda Expression"
   ],
   "cell_type": "markdown",
   "metadata": {}
  },
  {
   "source": [
    "What is Lambda?\n",
    "\n",
    "a one liner function for quick inline use.\n",
    "\n",
    "syntax: `x, y: x + y` ==> `args: expression`"
   ],
   "cell_type": "markdown",
   "metadata": {}
  },
  {
   "cell_type": "code",
   "execution_count": 1,
   "metadata": {},
   "outputs": [
    {
     "output_type": "execute_result",
     "data": {
      "text/plain": [
       "3"
      ]
     },
     "metadata": {},
     "execution_count": 1
    }
   ],
   "source": [
    "a = lambda x,y: x+y\n",
    "\n",
    "a(1,2)"
   ]
  },
  {
   "cell_type": "code",
   "execution_count": 3,
   "metadata": {},
   "outputs": [
    {
     "output_type": "stream",
     "name": "stdout",
     "text": [
      "['hello', 'hi', 'what', 'why']\n['hi', 'hello', 'what', 'why']\n"
     ]
    }
   ],
   "source": [
    "a = ['hello', 'hi', 'what', 'why']\n",
    "\n",
    "print(sorted(a))\n",
    "\n",
    "def last_char(s):\n",
    "    return s[-1]\n",
    "\n",
    "print(sorted(a, key=last_char))"
   ]
  },
  {
   "source": [
    "### Exercise 3: Change `last_char()` into lambda expression"
   ],
   "cell_type": "markdown",
   "metadata": {}
  },
  {
   "cell_type": "code",
   "execution_count": 4,
   "metadata": {},
   "outputs": [
    {
     "output_type": "stream",
     "name": "stdout",
     "text": [
      "['hi', 'hello', 'what', 'why']\n"
     ]
    }
   ],
   "source": [
    "# your code here"
   ]
  },
  {
   "source": [
    "### Exercise 4: sort a dictionary by its values, not keys"
   ],
   "cell_type": "markdown",
   "metadata": {}
  },
  {
   "cell_type": "code",
   "execution_count": 7,
   "metadata": {},
   "outputs": [
    {
     "output_type": "execute_result",
     "data": {
      "text/plain": [
       "{'b': 3, 'a': 4, 'd': 7, 'c': 10}"
      ]
     },
     "metadata": {},
     "execution_count": 7
    }
   ],
   "source": [
    "d = {\n",
    "    'a':4,\n",
    "    'b':3,\n",
    "    'c':10,\n",
    "    'd':7,\n",
    "}\n",
    "\n",
    "# put your code here:\n"
   ]
  },
  {
   "cell_type": "code",
   "execution_count": null,
   "metadata": {},
   "outputs": [],
   "source": []
  }
 ]
}