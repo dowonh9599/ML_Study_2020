{
 "metadata": {
  "language_info": {
   "codemirror_mode": {
    "name": "ipython",
    "version": 3
   },
   "file_extension": ".py",
   "mimetype": "text/x-python",
   "name": "python",
   "nbconvert_exporter": "python",
   "pygments_lexer": "ipython3",
   "version": "3.7.7-final"
  },
  "orig_nbformat": 2,
  "kernelspec": {
   "name": "Python 3.7.7 64-bit",
   "display_name": "Python 3.7.7 64-bit",
   "metadata": {
    "interpreter": {
     "hash": "3447f6136a6cf56eb81d5af8e2a6db11391489766b6427b46ae4250d86181ffe"
    }
   }
  }
 },
 "nbformat": 4,
 "nbformat_minor": 2,
 "cells": [
  {
   "source": [
    "# String Manipulation"
   ],
   "cell_type": "markdown",
   "metadata": {}
  },
  {
   "source": [
    "## Basics: replace, deletion, concatenation"
   ],
   "cell_type": "markdown",
   "metadata": {}
  },
  {
   "cell_type": "code",
   "execution_count": 3,
   "metadata": {},
   "outputs": [
    {
     "output_type": "stream",
     "name": "stdout",
     "text": [
      "qsdfqsdf\nasdfasdf\nsdfsdf\nsdfasdf\nasfasdf\n"
     ]
    }
   ],
   "source": [
    "# replace\n",
    "# list: mutable  string: immutable\n",
    "s = \"asdfasdf\"\n",
    "\n",
    "print(s.replace(\"a\", \"q\"))  \n",
    "print(s)  # note that strings are immutable\n",
    "\n",
    "# used as deletion\n",
    "print(s.replace(\"a\", \"\"))  # this deletes every \"a\"\n",
    "print(s.replace(\"a\", \"\", 1))  # this deletes first \"a\"\n",
    "\n",
    "k=2\n",
    "print(s[0:k] + s[k+1:])  # delete k'th character"
   ]
  },
  {
   "source": [
    "### Various ways of concatenation"
   ],
   "cell_type": "markdown",
   "metadata": {}
  },
  {
   "cell_type": "code",
   "execution_count": 1,
   "metadata": {},
   "outputs": [
    {
     "output_type": "stream",
     "name": "stdout",
     "text": [
      "Hello world\nHello world\nHello world\nHello world\n"
     ]
    }
   ],
   "source": [
    "# first: default + operator\n",
    "s1 = \"Hello\"\n",
    "s2 = \"world\"\n",
    "\n",
    "print(s1 + \" \" + s2)  # quadratic time O(n^2) for repetitive concatenation:\n",
    "\n",
    "# second: str.join()\n",
    "print(\" \".join([s1, s2]))\n",
    "\n",
    "# third: str.format()\n",
    "print(\"{} {}\".format(s1, s2))\n",
    "\n",
    "# fourth: python 3's fstring\n",
    "print(f\"{s1} {s2}\")"
   ]
  },
  {
   "source": [
    "### When to use one of those 4 methods?"
   ],
   "cell_type": "markdown",
   "metadata": {}
  },
  {
   "source": [
    "Why + operator is bad?"
   ],
   "cell_type": "markdown",
   "metadata": {}
  },
  {
   "cell_type": "code",
   "execution_count": 3,
   "metadata": {},
   "outputs": [
    {
     "output_type": "stream",
     "name": "stdout",
     "text": [
      "abcdefghijklmno\n"
     ]
    }
   ],
   "source": [
    "S = [\"abc\", \"def\", \"ghi\", \"jkl\", \"mno\"]\n",
    "\n",
    "new_str = \"\"\n",
    "\n",
    "for s in S:\n",
    "    new_str += s\n",
    "\n",
    "print(new_str)\n"
   ]
  },
  {
   "source": [
    ".join() is to be used when concatenating multiple strings stored in some data type separated by the same delimiter (splace between words)."
   ],
   "cell_type": "markdown",
   "metadata": {}
  },
  {
   "cell_type": "code",
   "execution_count": 4,
   "metadata": {},
   "outputs": [
    {
     "output_type": "stream",
     "name": "stdout",
     "text": [
      "abcdefghijklmno\nabc def ghi jkl mno\nabc\tdef\tghi\tjkl\tmno\nabc\ndef\nghi\njkl\nmno\n"
     ]
    }
   ],
   "source": [
    "S = [\"abc\", \"def\", \"ghi\", \"jkl\", \"mno\"]\n",
    "\n",
    "print(\"\".join(S))\n",
    "print(\" \".join(S))\n",
    "print(\"\\t\".join(S))\n",
    "print(\"\\n\".join(S))"
   ]
  },
  {
   "source": [
    "format() is used when it is needed to define the basis string first. fstring is used when doing things on the fly."
   ],
   "cell_type": "markdown",
   "metadata": {}
  },
  {
   "cell_type": "code",
   "execution_count": 7,
   "metadata": {},
   "outputs": [
    {
     "output_type": "execute_result",
     "data": {
      "text/plain": [
       "'asdf.mp3'"
      ]
     },
     "metadata": {},
     "execution_count": 7
    }
   ],
   "source": [
    "basis = \"{}.{}\"\n",
    "\n",
    "filename = \"asdf\"\n",
    "extension = \"mp3\"\n",
    "\n",
    "full_name = basis.format(filename, extension)\n",
    "\n",
    "full_name = f\"{filename}.{extension}\" \n",
    "\n",
    "\n",
    "# names = [\"Hans\", \"Elsa\", \"Sven\", \"Anna\"]\n",
    "\n",
    "# def print_filenames(basis, names):\n",
    "#     filenames = []\n",
    "#     for i, x in enumerate(names):\n",
    "#         if x == \"Sven\":\n",
    "#             ext = \"animal\"\n",
    "#         else:\n",
    "#             ext = \"human\"\n",
    "#         filenames.append(basis.format(i, x, ext))\n",
    "\n",
    "#     print(filenames)\n",
    "\n",
    "# print_filenames(basis, names)"
   ]
  },
  {
   "cell_type": "code",
   "execution_count": 13,
   "metadata": {},
   "outputs": [
    {
     "output_type": "stream",
     "name": "stdout",
     "text": [
      "['0_Hans.human', '1_Elsa.human', '2_Sven.animal', '3_Anna.human']\n"
     ]
    }
   ],
   "source": [
    "filenames = []\n",
    "for i, x in enumerate(names):\n",
    "    if x == \"Sven\":\n",
    "        ext = \"animal\"\n",
    "    else:\n",
    "        ext = \"human\"\n",
    "    filenames.append(f\"{i}_{x}.{ext}\")\n",
    "\n",
    "print(filenames)"
   ]
  },
  {
   "source": [
    "## Special Strings: OS path"
   ],
   "cell_type": "markdown",
   "metadata": {}
  },
  {
   "cell_type": "code",
   "execution_count": 14,
   "metadata": {},
   "outputs": [],
   "source": [
    "import os"
   ]
  },
  {
   "source": [
    "### Another Reference:\n",
    "https://medium.com/@ageitgey/python-3-quick-tip-the-easy-way-to-deal-with-file-paths-on-windows-mac-and-linux-11a072b58d5f#:~:text=Python%203.4%20introduced%20a%20new,forward%20slashes%20with%20pathlib%20functions."
   ],
   "cell_type": "markdown",
   "metadata": {}
  },
  {
   "cell_type": "code",
   "execution_count": 38,
   "metadata": {},
   "outputs": [],
   "source": [
    "# Expand relative\n",
    "os.path.expanduser('~/Desktop')\n",
    "\n",
    "# get pwd\n",
    "os.getcwd()\n",
    "\n",
    "# get absolute path\n",
    "os.path.abspath('../oop')\n",
    "\n",
    "# get relative path\n",
    "os.path.relpath('Users/choisehyun/Desktop')\n",
    "\n",
    "# basename, dirname\n",
    "os.path.basename('some/path/to/file.py')\n",
    "os.path.dirname('some/path/to/file.py')\n",
    "\n",
    "# join path\n",
    "os.path.join('some/path/to', 'directory/', 'filename')  # what is the difference between join?\n",
    "\n",
    "# exist, isfile, makedirs\n",
    "os.path.exists('../oop')\n",
    "os.path.isfile('../oop')\n",
    "os.makedirs('../oop/some/new/dir', exist_ok=True)"
   ]
  },
  {
   "source": [
    "## Extra: Unicode peculiarities"
   ],
   "cell_type": "markdown",
   "metadata": {}
  },
  {
   "cell_type": "code",
   "execution_count": 6,
   "metadata": {},
   "outputs": [],
   "source": [
    "import unicodedata"
   ]
  },
  {
   "cell_type": "code",
   "execution_count": 10,
   "metadata": {},
   "outputs": [
    {
     "output_type": "execute_result",
     "data": {
      "text/plain": [
       "'안녕하세요'"
      ]
     },
     "metadata": {},
     "execution_count": 10
    }
   ],
   "source": [
    "unicodedata.normalize(\"NFKD\", \"안녕하세요\")"
   ]
  },
  {
   "cell_type": "code",
   "execution_count": 11,
   "metadata": {},
   "outputs": [
    {
     "output_type": "stream",
     "name": "stdout",
     "text": [
      "asdf \t asdf\nasdf \\t asdf\n"
     ]
    }
   ],
   "source": [
    "u\"asdf\"  # important in python 2. \n",
    "\n",
    "print(\"asdf \\t asdf\")\n",
    "print(r\"asdf \\t asdf\")  # r means raw"
   ]
  },
  {
   "source": [
    "## Further: regex"
   ],
   "cell_type": "markdown",
   "metadata": {}
  },
  {
   "cell_type": "code",
   "execution_count": null,
   "metadata": {},
   "outputs": [],
   "source": [
    "import re  # regex module. Later with text related stuff"
   ]
  }
 ]
}